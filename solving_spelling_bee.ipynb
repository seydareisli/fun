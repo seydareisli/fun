{
 "cells": [
  {
   "cell_type": "code",
   "execution_count": 6,
   "metadata": {},
   "outputs": [
    {
     "data": {
      "text/plain": [
       "'\\nsolving NYT spelling bee puzzle\\ndefine chars and  necessary_char variables in cell 4 and run!\\n\\n'"
      ]
     },
     "execution_count": 6,
     "metadata": {},
     "output_type": "execute_result"
    }
   ],
   "source": [
    "'''\n",
    "\n",
    "solving NYT spelling bee puzzle\n",
    "define chars and  necessary_char variables in cell 4 and run!\n",
    "\n",
    "'''"
   ]
  },
  {
   "cell_type": "code",
   "execution_count": 7,
   "metadata": {},
   "outputs": [
    {
     "name": "stdout",
     "output_type": "stream",
     "text": [
      "showing info https://raw.githubusercontent.com/nltk/nltk_data/gh-pages/index.xml\n",
      "236736\n"
     ]
    }
   ],
   "source": [
    "''' download the word list from nltk ''' \n",
    "\n",
    "import nltk\n",
    "nltk.download()\n",
    "from nltk.corpus import words \n",
    "word_list = words.words() \n",
    "print(len(word_list))\n"
   ]
  },
  {
   "cell_type": "code",
   "execution_count": 8,
   "metadata": {},
   "outputs": [],
   "source": [
    "def contains_certain_characters(string, characters):\n",
    "    return all(char in characters for char in string)\n"
   ]
  },
  {
   "cell_type": "code",
   "execution_count": 9,
   "metadata": {},
   "outputs": [
    {
     "name": "stdout",
     "output_type": "stream",
     "text": [
      "akala\n",
      "akeake\n",
      "akee\n",
      "aknee\n",
      "aleak\n",
      "alkane\n",
      "alkene\n",
      "alkenna\n",
      "ankee\n",
      "ankle\n",
      "baka\n",
      "bakal\n",
      "bake\n",
      "baked\n",
      "baken\n",
      "balk\n",
      "banak\n",
      "bandaka\n",
      "bank\n",
      "bankable\n",
      "banked\n",
      "beak\n",
      "beaked\n",
      "beek\n",
      "blake\n",
      "blank\n",
      "blanked\n",
      "blankeel\n",
      "bleak\n",
      "dalk\n",
      "dank\n",
      "dekle\n",
      "ekka\n",
      "kabel\n",
      "kaka\n",
      "kakkak\n",
      "kakke\n",
      "kala\n",
      "kaladana\n",
      "kale\n",
      "kana\n",
      "kanae\n",
      "kande\n",
      "kebab\n",
      "keek\n",
      "keel\n",
      "keeled\n",
      "keen\n",
      "keena\n",
      "keened\n",
      "keld\n",
      "kele\n",
      "kelebe\n",
      "kelek\n",
      "kelk\n",
      "kell\n",
      "kella\n",
      "kend\n",
      "kennel\n",
      "knab\n",
      "knabble\n",
      "knead\n",
      "kneadable\n",
      "knee\n",
      "kneed\n",
      "kneel\n",
      "knell\n",
      "lake\n",
      "lakeland\n",
      "lank\n",
      "leak\n",
      "lebbek\n",
      "leek\n",
      "lekane\n",
      "nabak\n",
      "nabk\n",
      "nake\n",
      "naked\n",
      "nankeen\n",
      "knee\n"
     ]
    }
   ],
   "source": [
    "from PyDictionary import PyDictionary\n",
    "dictionary=PyDictionary()\n",
    "\n",
    "chars='lankbed'\n",
    "necessary_char='k'\n",
    "\n",
    "for w in word_list:\n",
    "    if contains_certain_characters(w, chars):\n",
    "        if len(w)>3:\n",
    "            if necessary_char in w:\n",
    "                print(w)\n",
    "                #print(dictionary.synonym(w))\n",
    "\n",
    "\n",
    "            \n",
    "        \n",
    "    \n",
    "    \n"
   ]
  },
  {
   "cell_type": "raw",
   "metadata": {},
   "source": []
  },
  {
   "cell_type": "code",
   "execution_count": null,
   "metadata": {},
   "outputs": [],
   "source": []
  }
 ],
 "metadata": {
  "kernelspec": {
   "display_name": "Python 3",
   "language": "python",
   "name": "python3"
  },
  "language_info": {
   "codemirror_mode": {
    "name": "ipython",
    "version": 3
   },
   "file_extension": ".py",
   "mimetype": "text/x-python",
   "name": "python",
   "nbconvert_exporter": "python",
   "pygments_lexer": "ipython3",
   "version": "3.7.4"
  }
 },
 "nbformat": 4,
 "nbformat_minor": 4
}
